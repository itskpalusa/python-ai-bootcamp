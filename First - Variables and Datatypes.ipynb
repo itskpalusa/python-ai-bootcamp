{
 "cells": [
  {
   "cell_type": "code",
   "execution_count": 1,
   "id": "c5f753c5",
   "metadata": {},
   "outputs": [],
   "source": [
    "#Hello World! This is a single line comment"
   ]
  },
  {
   "cell_type": "code",
   "execution_count": 57,
   "id": "92116679",
   "metadata": {},
   "outputs": [
    {
     "data": {
      "text/plain": [
       "'\\n'"
      ]
     },
     "execution_count": 57,
     "metadata": {},
     "output_type": "execute_result"
    }
   ],
   "source": [
    "# This is\n",
    "# a multiline\n",
    "# comment\n",
    "#Multiline comments in Jupyter Ctl + /\n",
    "#Multiple comments in python console\n",
    "#  \"\"\"\n",
    "#  \"\"\""
   ]
  },
  {
   "cell_type": "code",
   "execution_count": 56,
   "id": "d44e742d",
   "metadata": {},
   "outputs": [
    {
     "name": "stdout",
     "output_type": "stream",
     "text": [
      "Hello World\n"
     ]
    }
   ],
   "source": [
    "print('Hello World')"
   ]
  },
  {
   "cell_type": "code",
   "execution_count": 8,
   "id": "afc5a6ad",
   "metadata": {},
   "outputs": [
    {
     "name": "stdout",
     "output_type": "stream",
     "text": [
      "Let's create a Calculator Application\n"
     ]
    }
   ],
   "source": [
    "print('Let\\'s create a Calculator Application')"
   ]
  },
  {
   "cell_type": "code",
   "execution_count": 139,
   "id": "80235b33",
   "metadata": {},
   "outputs": [
    {
     "name": "stdout",
     "output_type": "stream",
     "text": [
      "Let's create a calculator applicationand name it as Dexter!!\n"
     ]
    }
   ],
   "source": [
    "print(\"Let's create a calculator application\" + 'and name it as Dexter!!')"
   ]
  },
  {
   "cell_type": "code",
   "execution_count": 85,
   "id": "2427ddbf",
   "metadata": {},
   "outputs": [
    {
     "name": "stdout",
     "output_type": "stream",
     "text": [
      "This is Dexter\n",
      "<class 'str'>\n"
     ]
    }
   ],
   "source": [
    "Title='This is Dexter'\n",
    "print(Title)\n",
    "print(type(Title))"
   ]
  },
  {
   "cell_type": "code",
   "execution_count": 52,
   "id": "2f306d4f",
   "metadata": {},
   "outputs": [
    {
     "name": "stdout",
     "output_type": "stream",
     "text": [
      "This is Dexter and I do calculations very well\n",
      "This is Dexter and I do calculations very well\n",
      "This is Dexter and I do calculations very well\n"
     ]
    }
   ],
   "source": [
    "print(f'{Title} and I do calculations very well')\n",
    "print('{} and I do calculations very well'.format(Title))\n",
    "print('{0} and I do calculations very well'.format(Title))"
   ]
  },
  {
   "cell_type": "code",
   "execution_count": 55,
   "id": "d6e459d9",
   "metadata": {},
   "outputs": [
    {
     "name": "stdout",
     "output_type": "stream",
     "text": [
      "<class 'int'>\n",
      "<class 'float'>\n"
     ]
    }
   ],
   "source": [
    "#Int and Float\n",
    "x=4\n",
    "print(type(x))\n",
    "y=float(x)\n",
    "print(type(y))"
   ]
  },
  {
   "cell_type": "code",
   "execution_count": 74,
   "id": "dbe11208",
   "metadata": {},
   "outputs": [],
   "source": [
    "#Lists\n",
    "numbers=[]"
   ]
  },
  {
   "cell_type": "code",
   "execution_count": 75,
   "id": "fae0b531",
   "metadata": {},
   "outputs": [],
   "source": [
    "numbers.append(0)"
   ]
  },
  {
   "cell_type": "code",
   "execution_count": 76,
   "id": "93af660a",
   "metadata": {},
   "outputs": [
    {
     "data": {
      "text/plain": [
       "[0]"
      ]
     },
     "execution_count": 76,
     "metadata": {},
     "output_type": "execute_result"
    }
   ],
   "source": [
    "numbers"
   ]
  },
  {
   "cell_type": "code",
   "execution_count": 77,
   "id": "4dcc82c3",
   "metadata": {},
   "outputs": [
    {
     "data": {
      "text/plain": [
       "0"
      ]
     },
     "execution_count": 77,
     "metadata": {},
     "output_type": "execute_result"
    }
   ],
   "source": [
    "numbers.pop()\n"
   ]
  },
  {
   "cell_type": "code",
   "execution_count": 78,
   "id": "bae0d762",
   "metadata": {},
   "outputs": [
    {
     "data": {
      "text/plain": [
       "[]"
      ]
     },
     "execution_count": 78,
     "metadata": {},
     "output_type": "execute_result"
    }
   ],
   "source": [
    "numbers"
   ]
  },
  {
   "cell_type": "code",
   "execution_count": 80,
   "id": "32912c7e",
   "metadata": {},
   "outputs": [],
   "source": [
    "for i in range(0,10):\n",
    "    numbers.append(i)"
   ]
  },
  {
   "cell_type": "code",
   "execution_count": 108,
   "id": "9fa6c941",
   "metadata": {},
   "outputs": [
    {
     "data": {
      "text/plain": [
       "[0, 1, 2, 3, 4, 7, 8, 9]"
      ]
     },
     "execution_count": 108,
     "metadata": {},
     "output_type": "execute_result"
    }
   ],
   "source": [
    "numbers"
   ]
  },
  {
   "cell_type": "code",
   "execution_count": 109,
   "id": "55eeecc3",
   "metadata": {},
   "outputs": [],
   "source": [
    "#Deleting multiple values\n",
    "numbers[5:7]=[]"
   ]
  },
  {
   "cell_type": "code",
   "execution_count": 110,
   "id": "28233e54",
   "metadata": {},
   "outputs": [
    {
     "data": {
      "text/plain": [
       "[0, 1, 2, 3, 4, 9]"
      ]
     },
     "execution_count": 110,
     "metadata": {},
     "output_type": "execute_result"
    }
   ],
   "source": [
    "numbers"
   ]
  },
  {
   "cell_type": "code",
   "execution_count": 82,
   "id": "580eea99",
   "metadata": {},
   "outputs": [],
   "source": [
    "numbers=[]"
   ]
  },
  {
   "cell_type": "code",
   "execution_count": 83,
   "id": "3cd1a988",
   "metadata": {},
   "outputs": [],
   "source": [
    "numbers.extend([10,0,1,2,3,4,5,6,7,8,9])\n",
    "numbers.sort()"
   ]
  },
  {
   "cell_type": "code",
   "execution_count": 93,
   "id": "c4d7da99",
   "metadata": {},
   "outputs": [
    {
     "data": {
      "text/plain": [
       "[0, 1, 2, 3, 4, 5, 6, 7, 8, 9]"
      ]
     },
     "execution_count": 93,
     "metadata": {},
     "output_type": "execute_result"
    }
   ],
   "source": [
    "numbers"
   ]
  },
  {
   "cell_type": "code",
   "execution_count": 128,
   "id": "63a32172",
   "metadata": {},
   "outputs": [],
   "source": [
    "#slice&dice\n",
    "#my_list[start:stop:step]\n",
    "numbers = [0,1,2,3,4,5,6,7,8,9]"
   ]
  },
  {
   "cell_type": "code",
   "execution_count": 96,
   "id": "86d0bdd9",
   "metadata": {},
   "outputs": [
    {
     "data": {
      "text/plain": [
       "[0, 1, 2, 3, 4, 5, 6, 7, 8, 9]"
      ]
     },
     "execution_count": 96,
     "metadata": {},
     "output_type": "execute_result"
    }
   ],
   "source": [
    "numbers"
   ]
  },
  {
   "cell_type": "code",
   "execution_count": null,
   "id": "d42ce07e",
   "metadata": {},
   "outputs": [],
   "source": [
    "#[T, H, I, S, I, S, G, O, O, D]\n",
    "#[0, 1, 2, 3, 4, 5, 6, 7, 8, 9]\n",
    "#[-10, -9, -8, -7, -6, -5, -4, -3, -2, -1]"
   ]
  },
  {
   "cell_type": "code",
   "execution_count": 129,
   "id": "ac316bec",
   "metadata": {},
   "outputs": [
    {
     "name": "stdout",
     "output_type": "stream",
     "text": [
      "[0, 2, 4, 6, 8]\n",
      "[3, 4, 5, 6, 7]\n"
     ]
    }
   ],
   "source": [
    "print(numbers[0::2])\n",
    "print(numbers[-7:-2])"
   ]
  },
  {
   "cell_type": "code",
   "execution_count": 68,
   "id": "dd150e29",
   "metadata": {},
   "outputs": [
    {
     "name": "stdout",
     "output_type": "stream",
     "text": [
      "Enter Your Name: mahesh\n",
      "hseham\n"
     ]
    }
   ],
   "source": [
    "Name=input(\"Enter Your Name: \")\n",
    "print(Name[::-1])"
   ]
  },
  {
   "cell_type": "code",
   "execution_count": 113,
   "id": "87895e18",
   "metadata": {},
   "outputs": [],
   "source": [
    "#Dictionary\n",
    "numbers={}"
   ]
  },
  {
   "cell_type": "code",
   "execution_count": 130,
   "id": "252ff957",
   "metadata": {},
   "outputs": [],
   "source": [
    "numbers={\"One\":1, \"Two\":2, \"Three\":3}"
   ]
  },
  {
   "cell_type": "code",
   "execution_count": 120,
   "id": "5dc6e9eb",
   "metadata": {},
   "outputs": [
    {
     "data": {
      "text/plain": [
       "2"
      ]
     },
     "execution_count": 120,
     "metadata": {},
     "output_type": "execute_result"
    }
   ],
   "source": [
    "numbers[\"One\"]"
   ]
  },
  {
   "cell_type": "code",
   "execution_count": 121,
   "id": "9bd9b288",
   "metadata": {},
   "outputs": [],
   "source": [
    "numbers[\"Fourth\"]=4"
   ]
  },
  {
   "cell_type": "code",
   "execution_count": 122,
   "id": "5f78023f",
   "metadata": {},
   "outputs": [
    {
     "data": {
      "text/plain": [
       "{'One': 1, 'Two': 2, 'Three': 3, 'Fourth': 4}"
      ]
     },
     "execution_count": 122,
     "metadata": {},
     "output_type": "execute_result"
    }
   ],
   "source": [
    "numbers"
   ]
  },
  {
   "cell_type": "code",
   "execution_count": 124,
   "id": "41dbee19",
   "metadata": {},
   "outputs": [],
   "source": [
    "del numbers[\"Fourth\"]"
   ]
  },
  {
   "cell_type": "code",
   "execution_count": 125,
   "id": "4993c0b3",
   "metadata": {},
   "outputs": [
    {
     "data": {
      "text/plain": [
       "{'One': 1, 'Two': 2, 'Three': 3}"
      ]
     },
     "execution_count": 125,
     "metadata": {},
     "output_type": "execute_result"
    }
   ],
   "source": [
    "numbers"
   ]
  },
  {
   "cell_type": "code",
   "execution_count": 131,
   "id": "5060e738",
   "metadata": {},
   "outputs": [],
   "source": [
    "numbers[\"Fifth\"]=[5,6,7,8,9]"
   ]
  },
  {
   "cell_type": "code",
   "execution_count": 132,
   "id": "64fc9956",
   "metadata": {},
   "outputs": [
    {
     "data": {
      "text/plain": [
       "{'One': 1, 'Two': 2, 'Three': 3, 'Fifth': [5, 6, 7, 8, 9]}"
      ]
     },
     "execution_count": 132,
     "metadata": {},
     "output_type": "execute_result"
    }
   ],
   "source": [
    "numbers"
   ]
  },
  {
   "cell_type": "code",
   "execution_count": 134,
   "id": "2295b3a5",
   "metadata": {},
   "outputs": [
    {
     "data": {
      "text/plain": [
       "8"
      ]
     },
     "execution_count": 134,
     "metadata": {},
     "output_type": "execute_result"
    }
   ],
   "source": [
    "numbers[\"Fifth\"][3]"
   ]
  },
  {
   "cell_type": "code",
   "execution_count": 26,
   "id": "72ca5dce",
   "metadata": {},
   "outputs": [
    {
     "name": "stdout",
     "output_type": "stream",
     "text": [
      "mvalluri\n"
     ]
    },
    {
     "data": {
      "text/plain": [
       "'Mr.VALLURI'"
      ]
     },
     "execution_count": 26,
     "metadata": {},
     "output_type": "execute_result"
    }
   ],
   "source": []
  }
 ],
 "metadata": {
  "kernelspec": {
   "display_name": "Python 3 (ipykernel)",
   "language": "python",
   "name": "python3"
  },
  "language_info": {
   "codemirror_mode": {
    "name": "ipython",
    "version": 3
   },
   "file_extension": ".py",
   "mimetype": "text/x-python",
   "name": "python",
   "nbconvert_exporter": "python",
   "pygments_lexer": "ipython3",
   "version": "3.9.7"
  }
 },
 "nbformat": 4,
 "nbformat_minor": 5
}
