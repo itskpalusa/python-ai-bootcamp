{
 "cells": [
  {
   "cell_type": "code",
   "execution_count": 7,
   "id": "a1e4c5af",
   "metadata": {},
   "outputs": [],
   "source": [
    "# Program make a simple calculator\n",
    "def addition(x,y):\n",
    "    return x+y\n",
    "def subtract(x,y):\n",
    "    return x-y\n",
    "def main(x,y):\n",
    "    Input = input(\"Please select operation that you would like to perform. 1. Addition 2. Subtraction: \")\n",
    "    if str.lower(Input) == 'addition':\n",
    "        print(addition(x,y))\n",
    "    elif str.lower(Input) == 'subtraction':\n",
    "        print(subtract(x,y))\n",
    "    else:\n",
    "        print('Invalid Input')"
   ]
  },
  {
   "cell_type": "code",
   "execution_count": 8,
   "id": "e8caff84",
   "metadata": {},
   "outputs": [
    {
     "name": "stdout",
     "output_type": "stream",
     "text": [
      "Please operation that you would like to perform. 1. Addition 2. Subtraction: addition\n",
      "5\n"
     ]
    }
   ],
   "source": [
    "main(2,3)"
   ]
  },
  {
   "cell_type": "code",
   "execution_count": 1,
   "id": "343ae278",
   "metadata": {},
   "outputs": [],
   "source": [
    "#This is Dexter\n",
    "def addition(x,y):\n",
    "    return x+y\n",
    "\n",
    "def subtract(x, y):\n",
    "    return x - y\n",
    "\n",
    "def main():\n",
    "    operations={1:'addition', 2:'subtraction'}\n",
    "    print('Hello User, this is Dexter. Which of the following operation you would like to perform')\n",
    "    for key,value in operations.items():\n",
    "        print(key,'.',str.upper(value))\n",
    "    \n",
    "    while True:\n",
    "        choice = int(input(\"Enter Number of Required Operation: \"))\n",
    "        if choice in operations.keys ():\n",
    "            num1 = float(input(\"Number 1: \"))\n",
    "            num2 = float(input(\"Number 2: \"))\n",
    "\n",
    "            if choice == 1:\n",
    "                print(addition(num1, num2))\n",
    "            if choice == 2:\n",
    "                print(subtract(num1, num2))\n",
    "                \n",
    "            next_calculation = input(\"Let's do next calculation? (yes/no): \")\n",
    "            if next_calculation == \"no\":\n",
    "                break\n",
    "        else:\n",
    "            print(\"Invalid Selection Buddy!! Check available options one more time.\")\n",
    "                "
   ]
  },
  {
   "cell_type": "code",
   "execution_count": 2,
   "id": "1ec55fad",
   "metadata": {},
   "outputs": [
    {
     "name": "stdout",
     "output_type": "stream",
     "text": [
      "Hello User, this is Dexter. Which of the following operation you would like to perform\n",
      "1 . ADDITION\n",
      "2 . SUBTRACTION\n",
      "Enter Number of Required Operation: 3\n",
      "Invalid Selection Buddy!! Check available options one more time.\n",
      "Enter Number of Required Operation: 2\n",
      "Number 1: 9\n",
      "Number 2: 6\n",
      "3.0\n",
      "Let's do next calculation? (yes/no): yes\n",
      "Enter Number of Required Operation: 9\n",
      "Invalid Selection Buddy!! Check available options one more time.\n",
      "Enter Number of Required Operation: 6\n",
      "Invalid Selection Buddy!! Check available options one more time.\n",
      "Enter Number of Required Operation: 1\n",
      "Number 1: 9\n",
      "Number 2: 6\n",
      "15.0\n",
      "Let's do next calculation? (yes/no): yes\n",
      "Enter Number of Required Operation: 1\n",
      "Number 1: 5.5\n",
      "Number 2: 6.5\n",
      "12.0\n",
      "Let's do next calculation? (yes/no): no\n"
     ]
    }
   ],
   "source": [
    "main()"
   ]
  },
  {
   "cell_type": "code",
   "execution_count": null,
   "id": "e0e86017",
   "metadata": {},
   "outputs": [],
   "source": []
  }
 ],
 "metadata": {
  "kernelspec": {
   "display_name": "Python 3 (ipykernel)",
   "language": "python",
   "name": "python3"
  },
  "language_info": {
   "codemirror_mode": {
    "name": "ipython",
    "version": 3
   },
   "file_extension": ".py",
   "mimetype": "text/x-python",
   "name": "python",
   "nbconvert_exporter": "python",
   "pygments_lexer": "ipython3",
   "version": "3.9.7"
  }
 },
 "nbformat": 4,
 "nbformat_minor": 5
}
