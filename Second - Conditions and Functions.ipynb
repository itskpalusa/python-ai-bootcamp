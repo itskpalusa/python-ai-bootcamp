{
 "cells": [
  {
   "cell_type": "code",
   "execution_count": 18,
   "id": "b113cec5",
   "metadata": {},
   "outputs": [],
   "source": [
    "x=5\n",
    "y=6"
   ]
  },
  {
   "cell_type": "code",
   "execution_count": 12,
   "id": "cbe9fc2c",
   "metadata": {},
   "outputs": [
    {
     "data": {
      "text/plain": [
       "11"
      ]
     },
     "execution_count": 12,
     "metadata": {},
     "output_type": "execute_result"
    }
   ],
   "source": [
    "x+y"
   ]
  },
  {
   "cell_type": "code",
   "execution_count": 13,
   "id": "356f3a2f",
   "metadata": {},
   "outputs": [
    {
     "data": {
      "text/plain": [
       "'56'"
      ]
     },
     "execution_count": 13,
     "metadata": {},
     "output_type": "execute_result"
    }
   ],
   "source": [
    "str(x) + str(y)"
   ]
  },
  {
   "cell_type": "code",
   "execution_count": 22,
   "id": "4d9b4171",
   "metadata": {},
   "outputs": [],
   "source": [
    "x='Mahesh'\n",
    "y='Valluri'"
   ]
  },
  {
   "cell_type": "code",
   "execution_count": 15,
   "id": "17603f30",
   "metadata": {},
   "outputs": [
    {
     "data": {
      "text/plain": [
       "'MaheshValluri'"
      ]
     },
     "execution_count": 15,
     "metadata": {},
     "output_type": "execute_result"
    }
   ],
   "source": [
    "x+y"
   ]
  },
  {
   "cell_type": "code",
   "execution_count": 16,
   "id": "526578a5",
   "metadata": {},
   "outputs": [
    {
     "data": {
      "text/plain": [
       "'h'"
      ]
     },
     "execution_count": 16,
     "metadata": {},
     "output_type": "execute_result"
    }
   ],
   "source": [
    "x[2]"
   ]
  },
  {
   "cell_type": "code",
   "execution_count": 23,
   "id": "8207d01c",
   "metadata": {},
   "outputs": [
    {
     "name": "stdout",
     "output_type": "stream",
     "text": [
      "y is greater\n"
     ]
    }
   ],
   "source": [
    "# Use if statement to determine which variable has greater value\n",
    "if x > y:\n",
    "    print('x is greater')\n",
    "elif y > x:\n",
    "    print('y is greater')\n",
    "else:\n",
    "    print('x equals to y')"
   ]
  },
  {
   "cell_type": "code",
   "execution_count": 45,
   "id": "c03444c2",
   "metadata": {},
   "outputs": [],
   "source": [
    "x=5\n",
    "y='Mahesh'"
   ]
  },
  {
   "cell_type": "code",
   "execution_count": 46,
   "id": "63949713",
   "metadata": {},
   "outputs": [
    {
     "ename": "TypeError",
     "evalue": "unsupported operand type(s) for +: 'int' and 'str'",
     "output_type": "error",
     "traceback": [
      "\u001b[1;31m---------------------------------------------------------------------------\u001b[0m",
      "\u001b[1;31mTypeError\u001b[0m                                 Traceback (most recent call last)",
      "\u001b[1;32m~\\AppData\\Local\\Temp/ipykernel_36096/978381659.py\u001b[0m in \u001b[0;36m<module>\u001b[1;34m\u001b[0m\n\u001b[1;32m----> 1\u001b[1;33m \u001b[0mx\u001b[0m \u001b[1;33m+\u001b[0m \u001b[0my\u001b[0m\u001b[1;33m\u001b[0m\u001b[1;33m\u001b[0m\u001b[0m\n\u001b[0m",
      "\u001b[1;31mTypeError\u001b[0m: unsupported operand type(s) for +: 'int' and 'str'"
     ]
    }
   ],
   "source": [
    "x + y"
   ]
  },
  {
   "cell_type": "code",
   "execution_count": 47,
   "id": "aee0d9ea",
   "metadata": {},
   "outputs": [
    {
     "name": "stdout",
     "output_type": "stream",
     "text": [
      "No Luck Buddy! Check your syntax!\n"
     ]
    }
   ],
   "source": [
    "#Exception Handling\n",
    "try:\n",
    "    x + y\n",
    "except:\n",
    "    print('No Luck Buddy! Check your syntax!')\n"
   ]
  },
  {
   "cell_type": "code",
   "execution_count": 38,
   "id": "71c1d374",
   "metadata": {},
   "outputs": [],
   "source": [
    "#Loops\n",
    "#For Loop\n",
    "numbers = [0,1,2,3,4,5,6,7,8,9]"
   ]
  },
  {
   "cell_type": "code",
   "execution_count": 35,
   "id": "07bf0fbd",
   "metadata": {},
   "outputs": [
    {
     "name": "stdout",
     "output_type": "stream",
     "text": [
      "1\n",
      "2\n",
      "3\n",
      "4\n",
      "5\n",
      "6\n",
      "7\n",
      "8\n",
      "9\n",
      "10\n"
     ]
    }
   ],
   "source": [
    "for i in numbers:\n",
    "    i = i + 1\n",
    "    print(i)"
   ]
  },
  {
   "cell_type": "code",
   "execution_count": 50,
   "id": "8120da19",
   "metadata": {},
   "outputs": [],
   "source": [
    "new_numbers=[]\n",
    "for i in numbers:\n",
    "    i += 10\n",
    "    new_numbers.append(i)"
   ]
  },
  {
   "cell_type": "code",
   "execution_count": 51,
   "id": "2a049385",
   "metadata": {},
   "outputs": [
    {
     "data": {
      "text/plain": [
       "[10, 11, 12, 13, 14, 15, 16, 17, 18, 19]"
      ]
     },
     "execution_count": 51,
     "metadata": {},
     "output_type": "execute_result"
    }
   ],
   "source": [
    "new_numbers"
   ]
  },
  {
   "cell_type": "code",
   "execution_count": 55,
   "id": "1b297a2f",
   "metadata": {},
   "outputs": [
    {
     "ename": "SyntaxError",
     "evalue": "'return' outside function (Temp/ipykernel_36096/2692965492.py, line 5)",
     "output_type": "error",
     "traceback": [
      "\u001b[1;36m  File \u001b[1;32m\"C:\\Users\\mvalluri\\AppData\\Local\\Temp/ipykernel_36096/2692965492.py\"\u001b[1;36m, line \u001b[1;32m5\u001b[0m\n\u001b[1;33m    return \"Not a Prime\"\u001b[0m\n\u001b[1;37m    ^\u001b[0m\n\u001b[1;31mSyntaxError\u001b[0m\u001b[1;31m:\u001b[0m 'return' outside function\n"
     ]
    }
   ],
   "source": [
    "#Test a number is prime or not from numbers\n",
    "for i in numbers:\n",
    "    for j in range (2, i+1):\n",
    "        if i % j == 0:\n",
    "            return \"Not a Prime\"\n",
    "        else:\n",
    "            return \"Prime\""
   ]
  },
  {
   "cell_type": "code",
   "execution_count": 39,
   "id": "5724fbcc",
   "metadata": {},
   "outputs": [
    {
     "name": "stdout",
     "output_type": "stream",
     "text": [
      "0\n",
      "1\n",
      "2\n",
      "3\n",
      "4\n",
      "5\n",
      "6\n",
      "7\n",
      "8\n",
      "9\n"
     ]
    }
   ],
   "source": [
    "#While\n",
    "i=0\n",
    "while(i < len(numbers)):\n",
    "    print(numbers[i])\n",
    "    i=i+1\n",
    "    "
   ]
  },
  {
   "cell_type": "code",
   "execution_count": 40,
   "id": "4a3b45df",
   "metadata": {},
   "outputs": [
    {
     "name": "stdout",
     "output_type": "stream",
     "text": [
      "0\n",
      "1\n",
      "2\n",
      "3\n",
      "4\n"
     ]
    }
   ],
   "source": [
    "i=0\n",
    "while(i < len(numbers)):\n",
    "    print(numbers[i])\n",
    "    i=i+1\n",
    "    if i == 5:\n",
    "        break"
   ]
  },
  {
   "cell_type": "code",
   "execution_count": 58,
   "id": "bc7f793c",
   "metadata": {},
   "outputs": [
    {
     "name": "stdout",
     "output_type": "stream",
     "text": [
      "Hello Mahesh\n"
     ]
    }
   ],
   "source": [
    "def hello(name):\n",
    "    print('Hello {}'.format(name))\n",
    "\n",
    "hello('Mahesh')"
   ]
  },
  {
   "cell_type": "code",
   "execution_count": 48,
   "id": "dacd3f8b",
   "metadata": {},
   "outputs": [],
   "source": [
    "def addition(x, y):\n",
    "    return x + y"
   ]
  },
  {
   "cell_type": "code",
   "execution_count": 49,
   "id": "474e7caa",
   "metadata": {},
   "outputs": [
    {
     "data": {
      "text/plain": [
       "11"
      ]
     },
     "execution_count": 49,
     "metadata": {},
     "output_type": "execute_result"
    }
   ],
   "source": [
    "addition(5,6)"
   ]
  },
  {
   "cell_type": "code",
   "execution_count": 57,
   "id": "eba48163",
   "metadata": {},
   "outputs": [
    {
     "name": "stdout",
     "output_type": "stream",
     "text": [
      "x equals to y\n"
     ]
    }
   ],
   "source": [
    "def greater(x,y):\n",
    "    if x > y:\n",
    "        print('x is greater')\n",
    "    elif y > x:\n",
    "        print('y is greater')\n",
    "    else:\n",
    "        print('x equals to y')\n",
    "greater(3,3)"
   ]
  },
  {
   "cell_type": "code",
   "execution_count": 59,
   "id": "b30abf7e",
   "metadata": {},
   "outputs": [
    {
     "name": "stdout",
     "output_type": "stream",
     "text": [
      "30\n"
     ]
    }
   ],
   "source": [
    "x = lambda x, y : x * y\n",
    "print(x(5, 6))"
   ]
  }
 ],
 "metadata": {
  "kernelspec": {
   "display_name": "Python 3 (ipykernel)",
   "language": "python",
   "name": "python3"
  },
  "language_info": {
   "codemirror_mode": {
    "name": "ipython",
    "version": 3
   },
   "file_extension": ".py",
   "mimetype": "text/x-python",
   "name": "python",
   "nbconvert_exporter": "python",
   "pygments_lexer": "ipython3",
   "version": "3.9.7"
  }
 },
 "nbformat": 4,
 "nbformat_minor": 5
}
